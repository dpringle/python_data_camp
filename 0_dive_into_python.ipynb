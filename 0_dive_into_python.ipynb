{
 "cells": [
  {
   "cell_type": "code",
   "execution_count": null,
   "id": "c773348f-b4a5-4616-b07c-5cb36caccc34",
   "metadata": {},
   "outputs": [],
   "source": [
    "# Notes\n",
    "\n",
    "# Modules e.g. pandas, matplotlib .. \n",
    "# must import before writing other code; do at top\n",
    "# import pandas as pd\n",
    "# python in case sensitive\n"
   ]
  },
  {
   "cell_type": "code",
   "execution_count": null,
   "id": "ae1042f4-caac-4742-a799-ee969d270fb0",
   "metadata": {},
   "outputs": [],
   "source": [
    "# Variables\n",
    "\n",
    "# Case sensitive, no spaces or special chars, can use letters, numbers, underscore\n",
    "# Must start with a letter, no hyphens (syntax error)\n",
    "# ususally lower case with _"
   ]
  },
  {
   "cell_type": "code",
   "execution_count": null,
   "id": "17bdd728-a914-4614-a6d3-a02c30278eff",
   "metadata": {},
   "outputs": [],
   "source": [
    "# Floats int or decimal\n",
    "# strings \"\" can contain special chars, spaces etc\n",
    "# string errors: name error if forget \"\"\n",
    "# don't mix single and double quotes"
   ]
  },
  {
   "cell_type": "code",
   "execution_count": null,
   "id": "c24b2f83-cb67-4e71-99eb-5fd31314ddd9",
   "metadata": {},
   "outputs": [],
   "source": [
    "# Fill in Bayes' age (4.0)\n",
    "bayes_age = 4.0\n",
    "\n",
    "# Display the variable bayes_age\n",
    "print(bayes_age)\n"
   ]
  },
  {
   "cell_type": "code",
   "execution_count": null,
   "id": "3597891d-4e5f-4bd9-a838-be8f7650158f",
   "metadata": {},
   "outputs": [],
   "source": [
    "# Bayes' favorite toy\n",
    "favorite_toy = \"Mr. Squeaky\"\n",
    "\n",
    "# Bayes' owner\n",
    "owner = 'DataCamp'\n",
    "\n",
    "# Display variables\n",
    "print(favorite_toy)\n",
    "print(owner)"
   ]
  },
  {
   "cell_type": "code",
   "execution_count": null,
   "id": "3c5d7db2-2f54-420b-8fe2-0b34df9816db",
   "metadata": {},
   "outputs": [],
   "source": [
    "# Functions\n",
    "\n",
    "# fn calls use the alias.function syntax where alias is what module is imported as\n",
    "# args separately by commas (w or wo a space after)\n",
    "# positional arguments first, then keyword args e.g. label='Ransom'\n"
   ]
  },
  {
   "cell_type": "code",
   "execution_count": null,
   "id": "a79ae02a-5441-47b7-acd2-2ef5eb843d2a",
   "metadata": {},
   "outputs": [],
   "source": [
    "# Pandas\n",
    "\n",
    "# For tabular data, loaded from eg spreadsheets and databases\n",
    "# data type: DataDFrame\n",
    "# csv is common import type\n",
    "# df = pd.read_csv('ransom.csv')\n",
    "# print (df) -- shows every row \n",
    "# df.head() -- head as a method 'belongs' to the dataframe\n",
    "# print(df.head())\n",
    "# df.info() -- another method\n",
    "\n",
    "# select columns in df\n",
    "# column names is a string, means can incl spaces or sp chars\n",
    "# define a column as its own variable:\n",
    "\n",
    "# brackets and string\n",
    "# suspect = credit_records['suspect'] -- note ''\n",
    "# print(suspect)\n",
    "\n",
    "# dot\n",
    "# if column name includes only numbers, letters, underscores\n",
    "# price = credit_records.price -- no '' with dot method\n",
    "\n",
    "# select rows with logic\n",
    "# == for equality; >, <, >=, <=, !=\n",
    "# Answer True/False is boolean\n",
    "\n",
    "# credit_recrods.price > 20\n",
    "# credit_records[credit_records.price > 20.00]\n"
   ]
  },
  {
   "cell_type": "code",
   "execution_count": null,
   "id": "fb2ef693-9889-4ca1-a20a-b84bead207eb",
   "metadata": {},
   "outputs": [],
   "source": [
    "# line plots from matplotlib\n",
    "\n",
    "# from matlibplot import pyplot as plt\n",
    "# positional arguments (x,y)\n",
    "# plt.plot(x_var, y_var)\n",
    "# can then add other attributes, then show with\n",
    "# plt.show()\n",
    "\n",
    "# plt.title(\"Ransom Note\")\n",
    "# plt.xlabel(\"Letter\") -- in any order before plt.show()\n",
    "\n",
    "# add labels and then legends\n",
    "# plt.plot(x,y,label = \"SDFDF\")\n",
    "# plt.legend() -- after plt.show()\n",
    "# plt.show()\n",
    "\n",
    "# arbitrary text\n",
    "# plt.text(xcoord, ycoord, \"Message\")"
   ]
  },
  {
   "cell_type": "code",
   "execution_count": null,
   "id": "27946e83-91af-4916-84a5-854671a243c7",
   "metadata": {},
   "outputs": [],
   "source": [
    "# modifying text and plots\n",
    "\n",
    "# plt.title(\"Plot title\", fontsize=20)\n",
    "# use webcolors for colors by name\n",
    "# plt.plot(x,y1, linewidth=1)\n",
    "# plt.plot(x,y1, linestyle=\"--\") -- or \"-\" , \"-.\" , \":\"\n",
    "# plt.plot(x,y6, marker = \"d\") -- x, s, 0, d, *, h \n",
    "\n",
    "# plt.style.use('fivethirtyeight') 'ggplot' 'seaborn' 'default' for templates"
   ]
  },
  {
   "cell_type": "code",
   "execution_count": null,
   "id": "fbc95d20-3103-43a8-a8d0-40c5bcdc11bb",
   "metadata": {},
   "outputs": [],
   "source": [
    "# scatter plots\n",
    "\n",
    "# plt.scatter(x,y)\n",
    "# use label and other keywords above for plt.line for plt.scatter\n",
    "# alpha = 0.1 for faint points"
   ]
  },
  {
   "cell_type": "code",
   "execution_count": null,
   "id": "67ee8501-0403-48b7-abec-a92ac1075a74",
   "metadata": {},
   "outputs": [],
   "source": [
    "# bar chart\n",
    "\n",
    "# plt.bar(labels, height)\n",
    "# plt.ylabel() only as xlabel already done from x var\n",
    "\n",
    "# adding error bars:\n",
    "# plt.bar( .. yerr = df.error) -- shows as simple bar\n",
    "\n",
    "# stacked bar chart: \n",
    "# plt.bar(precinct, dog)\n",
    "# plt.bar(precinct, cat,bottom = dog) -- resets zero (per category) to dog value"
   ]
  },
  {
   "cell_type": "code",
   "execution_count": null,
   "id": "c77fbc0b-a35e-4f3f-8dc1-5de7887848f5",
   "metadata": {},
   "outputs": [],
   "source": [
    "# histogram\n",
    "\n",
    "# plt.hist(df.var) -- defaults to 10 bins\n",
    "# plt.hist(... , bins = bins, range = (xmin,xmax))\n",
    "# plt.hist(male_weight, density=True) -- to get proportion view\n"
   ]
  },
  {
   "cell_type": "code",
   "execution_count": null,
   "id": "3cfa1436-1319-42fa-8eb7-b73c703e806c",
   "metadata": {},
   "outputs": [],
   "source": [
    "# SUMMARY\n",
    "\n",
    "# modules import as\n",
    "# variables \n",
    "# functions positional or keyword (any order)\n",
    "# pandas for dataframes / tabular data\n",
    "# .head() .info() as methods\n",
    "# matplotlib - plt.plot .legend .show etc\n"
   ]
  }
 ],
 "metadata": {
  "kernelspec": {
   "display_name": "Python@conda-envs-data-processing",
   "language": "python",
   "name": "conda-env-conda-envs-data-processing-py"
  },
  "language_info": {
   "codemirror_mode": {
    "name": "ipython",
    "version": 3
   },
   "file_extension": ".py",
   "mimetype": "text/x-python",
   "name": "python",
   "nbconvert_exporter": "python",
   "pygments_lexer": "ipython3"
  }
 },
 "nbformat": 4,
 "nbformat_minor": 5
}
