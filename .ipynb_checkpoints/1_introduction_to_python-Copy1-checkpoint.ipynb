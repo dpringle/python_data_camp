{
 "cells": [
  {
   "cell_type": "code",
   "execution_count": null,
   "id": "3cfa1436-1319-42fa-8eb7-b73c703e806c",
   "metadata": {},
   "outputs": [],
   "source": [
    "# Hello Python\n",
    "\n",
    "# print()\n",
    "# * mult\n",
    "# ** exponentiation\n",
    "# # comment :-)\n",
    "# / division\n",
    "# % modulo - returns the remainder of division, 18 % 7 = 4"
   ]
  },
  {
   "cell_type": "code",
   "execution_count": null,
   "id": "8f746f9a-64f3-4944-bcb9-8e09d4846e02",
   "metadata": {},
   "outputs": [],
   "source": [
    "# Variables and Types\n",
    "\n",
    "# case sensitive\n",
    "# assign with =\n",
    "# type() .. float, int, str,  bool, ...\n",
    "\n",
    "# operators behave differently for different data types - general principle\n",
    "# e.g. + concatenates strings\n",
    "\n",
    "# Can re-cast to types using e.g. int(), float() and bool()\n"
   ]
  },
  {
   "cell_type": "code",
   "execution_count": null,
   "id": "3f6ff177-c0ce-47de-af42-b519395b2c4c",
   "metadata": {},
   "outputs": [],
   "source": [
    "# Lists\n",
    "\n",
    "# build a list with list = [a,b,c]\n",
    "# single name to collection of elements, of different types\n",
    "# nested lists within [,] \n",
    "# type (a list) = list\n",
    "# operations specific to lists\n",
    "\n",
    "# subset lists - using index [0,1 .. ]\n",
    "# list[3] references the 4th element in the list\n",
    "# -1 is last element\n",
    "\n",
    "# slicing, e.g. fam[3:5] returns elements 4th and 5th as inclusive:exclusive\n",
    "# [:4] all up to but elclusing index 4\n",
    "# [4:] all from and including index 4\n",
    "\n",
    "# manipulating lists\n",
    "# changing elements, assign using [,] = \n",
    "# changing slices \n",
    "# using + on two lists, appends the elements (not within cell addition)\n",
    "# del(list[2]) removes the 3rd element\n",
    "\n",
    "# behind the scenes = copies by reference, so \n",
    "# y = x\n",
    "# y[1] = 'new', also changes x[1] to 'new'\n",
    "# y = list(x) of y = x[:] makes a separate copy\n",
    "\n"
   ]
  },
  {
   "cell_type": "code",
   "execution_count": null,
   "id": "baff23db-2731-4160-8b60-e1b065c26748",
   "metadata": {},
   "outputs": [],
   "source": [
    "# functions\n",
    "\n",
    "# help(round) \n",
    "# positional, named, optional args"
   ]
  },
  {
   "cell_type": "code",
   "execution_count": null,
   "id": "3cba01fa-271f-49a9-8dbb-66c8afb8f04b",
   "metadata": {},
   "outputs": [],
   "source": [
    "# methods\n",
    "\n",
    "# evertyhing in py is an object, and has methods, which depend on type\n",
    "# python 'objects' have a type e.g. str, float, list\n",
    "# py objects also come with methods - functions that belong to the objects\n",
    "# methods depend on the type\n",
    "\n",
    "# use methods with . notation\n",
    "\n",
    "# index method called on a list called fam .. \n",
    "# fam.index(\"mom\")\n",
    "# fam.count(1.73) -- how many elements have value 1.73\n",
    "# sister.replace(\"z\",\"sa\")\n",
    "\n",
    "# some methods can change the objects they are called on, but others don't\n",
    "# fam.append(\"me\") adds an element\n"
   ]
  },
  {
   "cell_type": "code",
   "execution_count": null,
   "id": "8c59472e-254d-4c31-ac61-b21cea060284",
   "metadata": {},
   "outputs": [],
   "source": [
    "# packages\n",
    "\n",
    "# directory of py scripts\n",
    "# each script is a module \n",
    "# not all available by default; need to install and call\n",
    "# pip = package installation for python\n",
    "# Download: get-pip.py\n",
    "# \n",
    "# import numpy -- imports whole package\n",
    "# import numpy as np\n",
    "# np.array()\n",
    "\n",
    "# only need one function:\n",
    "# from numpy import array\n",
    "# array() \n",
    "# can do this, but lose some context in this case\n",
    "\n",
    "# TO use the function inv(), which is in the linalg subpackage of the scipy package. You want to be able to use this function as follows:\n",
    "# my_inv([[1,2], [3,4]])\n",
    "# from scipy.linalg import inv as my_inv"
   ]
  },
  {
   "cell_type": "code",
   "execution_count": null,
   "id": "3059dbc8-1173-4401-ae47-785cc9812f96",
   "metadata": {},
   "outputs": [],
   "source": [
    "# NumPy\n",
    "\n",
    "# can't do calculations directly on lists\n",
    "# use numpy numeric python\n",
    "# numpy array allows easy fast calcs\n",
    "\n",
    "# pip3 install numpy\n",
    "# import numpy as np\n",
    "# np_height = np.array(height)\n",
    "# np_weight = np.array(weight)\n",
    "# bmi = np_weight/ np_height ** 2 -- works element wise\n",
    "\n",
    "# assumes single type elements, so type coercion when created from mixed type\n",
    "\n",
    "# functions are different ... \n",
    "# python_list + python_list concatenates\n",
    "# element addition for numpy arrays\n",
    "# bmi[bmi>25] to subset\n"
   ]
  },
  {
   "cell_type": "code",
   "execution_count": null,
   "id": "1b051f99-e9c9-4b95-8b4b-0f967242cae4",
   "metadata": {},
   "outputs": [],
   "source": [
    "# 2D NumPy Arrays\n",
    "\n",
    "# type is numpy.ndarray\n",
    "# np_2d = np.array(list1, list2)\n",
    "# np_2d.shape -- is an attribute not a method, which would have() at the end\n",
    "\n",
    "# subset nd array \n",
    "# np_2d[row_index][element_index] , or\n",
    "# np_2d[row_index, element_index] \n",
    "# np_2d[:,1:3] -- all rows and 2 columns\n"
   ]
  },
  {
   "cell_type": "code",
   "execution_count": null,
   "id": "a3283ebc-9bbc-4d87-80e8-84ddb56ca5d1",
   "metadata": {},
   "outputs": [],
   "source": [
    "# NumPy Basic Statistics\n",
    "\n",
    "# np.mean(np_city[;,0]) -- mean of first column\n",
    "# np.median(np_city[;,1]) -- median of second column\n",
    "# np.corrcoef(x,y)\n",
    "# np.std(), sort(), sum()\n",
    "\n",
    "# Sampling\n",
    "# height = np.round(np.random.normal(1.75, 0.20, 5000), 2)\n",
    "# weight = np.round(np.random.normal(60.32, 15, 5000), 2)\n",
    "# np_city = np.column_stack((height, weight))"
   ]
  },
  {
   "cell_type": "code",
   "execution_count": null,
   "id": "77995e93-ec4c-4085-a5e4-6dfc0c88ac6b",
   "metadata": {},
   "outputs": [],
   "source": [
    "import numpy as np\n",
    "height = np.round(np.random.normal(1.75, 0.20, 5000), 2)\n",
    "weight = np.round(np.random.normal(60.32, 15, 5000), 2)\n",
    "np_city = np.column_stack((height, weight))\n",
    "print(np_city[:4,])"
   ]
  },
  {
   "cell_type": "code",
   "execution_count": null,
   "id": "caae6fd3-1b8c-4c57-9091-90a6a571a0d1",
   "metadata": {},
   "outputs": [],
   "source": []
  }
 ],
 "metadata": {
  "kernelspec": {
   "display_name": "Python@conda-envs-data-processing",
   "language": "python",
   "name": "conda-env-conda-envs-data-processing-py"
  },
  "language_info": {
   "codemirror_mode": {
    "name": "ipython",
    "version": 3
   },
   "file_extension": ".py",
   "mimetype": "text/x-python",
   "name": "python",
   "nbconvert_exporter": "python",
   "pygments_lexer": "ipython3"
  }
 },
 "nbformat": 4,
 "nbformat_minor": 5
}
