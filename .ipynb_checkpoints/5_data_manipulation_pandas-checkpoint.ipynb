{
 "cells": [
  {
   "cell_type": "code",
   "execution_count": null,
   "id": "5b92ac93-27b8-497a-93c1-5041d524b515",
   "metadata": {},
   "outputs": [],
   "source": [
    "# 4. Python Data Science Toolbox (Part 2)\n",
    "\n",
    "# Intro to iterators, iterables, list generators\n",
    "\n",
    "powers = ('telepathy',\n",
    " 'thermokinesis',\n",
    " 'teleportation',\n",
    " 'magnetokinesis',\n",
    " 'intangibility')\n",
    "\n",
    "mutants = ('charles xavier',\n",
    " 'bobby drake',\n",
    " 'kurt wagner',\n",
    " 'max eisenhardt',\n",
    " 'kitty pryde')"
   ]
  },
  {
   "cell_type": "code",
   "execution_count": null,
   "id": "bd02bc02-f7ec-4fc4-bc6a-ba47e11f3c34",
   "metadata": {},
   "outputs": [],
   "source": [
    "# Intro to iterators\n",
    "\n",
    "# Iterate over elements, sequences, for loops .. \n",
    "# lists, strings, range objects are all iterables, including dicts etc\n",
    "# an iter object with an associated iter() and next()functions\n",
    "# an iterable is an object that can return an iterator, while \n",
    "# an iterator is an object that keeps state and produces the next value \n",
    "# when you call next() on it. \n"
   ]
  },
  {
   "cell_type": "code",
   "execution_count": null,
   "id": "aa76ff24-ed3f-42d1-9661-47caedbeaccd",
   "metadata": {},
   "outputs": [],
   "source": [
    "# Create a list of strings: flash\n",
    "flash = ['jay garrick', 'barry allen', 'wally west', 'bart allen']\n",
    "\n",
    "# Print each list item in flash using a for loop\n",
    "for f in flash :\n",
    "    print(f)\n",
    "\n",
    "\n",
    "# Create an iterator for flash: superhero\n",
    "superhero = iter(flash)\n",
    "\n",
    "# Print each item from the iterator\n",
    "print(next(superhero))\n",
    "print(next(superhero))\n",
    "print(next(superhero))\n",
    "print(next(superhero))\n"
   ]
  },
  {
   "cell_type": "code",
   "execution_count": null,
   "id": "6ee7db14-de29-46d3-9ede-d848358b7ed9",
   "metadata": {},
   "outputs": [],
   "source": [
    "# Create a range object: values\n",
    "values = range(10,21)\n",
    "\n",
    "# Print the range object\n",
    "print(values)\n",
    "\n",
    "# Create a list of integers: values_list\n",
    "values_list = list(values)\n",
    "\n",
    "# Print values_list\n",
    "print(values_list)\n",
    "\n",
    "# Get the sum of values: values_sum\n",
    "values_sum = sum(values)\n",
    "\n",
    "# Print values_sum\n",
    "print(values_sum)\n"
   ]
  },
  {
   "cell_type": "code",
   "execution_count": null,
   "id": "a596567b-9519-4dfe-9fa6-3dcadddc0ee9",
   "metadata": {},
   "outputs": [],
   "source": [
    "# enumerate and zip\n",
    "\n",
    "# enumerate adds an index to iterable, storing as tuples\n",
    "# zip() creates a zip object which is an iterator of tuples\n",
    "# which can be turned into a list and printed\n",
    "# not a join; like a tuplee grouping of objects in the correct order"
   ]
  },
  {
   "cell_type": "code",
   "execution_count": null,
   "id": "42e15ed2-9b17-42b3-ba95-07af6c010330",
   "metadata": {},
   "outputs": [],
   "source": [
    "# Create a list of strings: mutants\n",
    "mutants = ['charles xavier', \n",
    "            'bobby drake', \n",
    "            'kurt wagner', \n",
    "            'max eisenhardt', \n",
    "            'kitty pryde']\n",
    "\n",
    "# Create a list of tuples: mutant_list\n",
    "mutant_list = list(enumerate(mutants))\n",
    "\n",
    "# Print the list of tuples\n",
    "print(mutant_list)\n",
    "\n",
    "# Unpack and print the tuple pairs\n",
    "for index1, value1 in enumerate(mutants):\n",
    "    print(index1, value1)\n",
    "\n",
    "# Change the start index\n",
    "for index2, value2 in enumerate(mutants, start = 1):\n",
    "    print(index2, value2)"
   ]
  },
  {
   "cell_type": "code",
   "execution_count": null,
   "id": "5ead3016-d0c1-42c7-9c53-35df097019d7",
   "metadata": {},
   "outputs": [],
   "source": [
    "\n",
    "# There is no unzip function for doing the reverse of what zip()\n",
    "# does. We can, however, reverse what has been zipped together by using zip() with a little help from *! * unpacks an iterable\n",
    "# such as a list or a tuple into positional arguments in a function call.\n",
    "\n",
    "# * operator 'exhausts' the zip object though, so need to reconstruct\n",
    "\n",
    "# Create a zip object from mutants and powers: z1\n",
    "z1 = zip(mutants, powers)\n",
    "\n",
    "# Print the tuples in z1 by unpacking with *\n",
    "print(*z1)\n",
    "\n",
    "# Re-create a zip object from mutants and powers: z1\n",
    "z1 = zip(mutants, powers)\n",
    "\n",
    "# 'Unzip' the tuples in z1 by unpacking with * and zip(): result1, result2\n",
    "result1, result2 = zip(*z1)\n",
    "\n",
    "# Check if unpacked tuples are equivalent to original tuples\n",
    "print(result1 == mutants)\n",
    "print(result2 == powers)\n"
   ]
  },
  {
   "cell_type": "code",
   "execution_count": null,
   "id": "c2b76268-8a94-4199-84e9-a65193d3d5a7",
   "metadata": {},
   "outputs": [],
   "source": [
    "# using iteration to import data, chuck analysis, save results\n",
    "\n",
    "import pandas as pd\n",
    "\n",
    "# Define count_entries()\n",
    "def count_entries(csv_file, c_size, colname):\n",
    "    \"\"\"Return a dictionary with counts of\n",
    "    occurrences as value for each key.\"\"\"\n",
    "    \n",
    "    # Initialize an empty dictionary: counts_dict\n",
    "    counts_dict = {}\n",
    "\n",
    "    # Iterate over the file chunk by chunk\n",
    "    for chunk in pd.read_csv(csv_file, chunksize = c_size):\n",
    "\n",
    "        # Iterate over the column in DataFrame\n",
    "        for entry in chunk[colname]:\n",
    "            if entry in counts_dict.keys():\n",
    "                counts_dict[entry] += 1\n",
    "            else:\n",
    "                counts_dict[entry] = 1\n",
    "\n",
    "    # Return counts_dict\n",
    "    return counts_dict\n",
    "\n",
    "# Call count_entries(): result_counts\n",
    "result_counts = count_entries('tweets.csv', c_size = 10, colname = 'lang')\n",
    "\n",
    "# Print result_counts\n",
    "print(result_counts)\n"
   ]
  },
  {
   "cell_type": "code",
   "execution_count": null,
   "id": "9ebdb6e9-4732-4229-8658-de9dc111be68",
   "metadata": {},
   "outputs": [],
   "source": [
    "#comprehensions"
   ]
  },
  {
   "cell_type": "code",
   "execution_count": null,
   "id": "97ff0daf-fe00-437c-a409-4496f526a8e1",
   "metadata": {},
   "outputs": [],
   "source": [
    "# list comprhension on a list\n",
    "# use [] for lists, and for list comprehension\n",
    "\n",
    "nums = [12,8,21,3]\n",
    "new_nums = [num + 1 for num in nums]\n",
    "print(new_nums)"
   ]
  },
  {
   "cell_type": "code",
   "execution_count": null,
   "id": "c3a9abec-3ad6-4093-a4db-dfb57b4bbe1f",
   "metadata": {},
   "outputs": [],
   "source": [
    "# can also use comprehensions on other iterables\n",
    "# or to replace nested loops as .. \n",
    "\n",
    "pairs_2 = [(num1, num2) for num1 in range(0,2) for num2 in range(6,8)]\n",
    "print(pairs_2)"
   ]
  },
  {
   "cell_type": "code",
   "execution_count": null,
   "id": "816d3071-de2f-40e1-b07c-25fab854adb1",
   "metadata": {},
   "outputs": [],
   "source": [
    "# Create a 5 x 5 matrix using a list of lists: matrix\n",
    "matrix = [[col for col in range(5)] for row in range(5)]\n",
    "\n",
    "# Print the matrix\n",
    "for row in matrix:\n",
    "    print(row)"
   ]
  },
  {
   "cell_type": "code",
   "execution_count": null,
   "id": "d08f0311-a879-481e-852a-00728a716212",
   "metadata": {},
   "outputs": [],
   "source": [
    "# conditional list comprehensions\n",
    "# dict comprehensions"
   ]
  },
  {
   "cell_type": "code",
   "execution_count": null,
   "id": "60edba9c-f386-444b-8c06-7b35fe89c5da",
   "metadata": {},
   "outputs": [],
   "source": [
    "# Create a list of strings: fellowship\n",
    "fellowship = ['frodo', 'samwise', 'merry', 'aragorn', 'legolas', 'boromir', 'gimli']\n",
    "\n",
    "# Create list comprehension: new_fellowship\n",
    "new_fellowship = [member if len(member) >= 7 else '' for member in fellowship]\n",
    "\n",
    "# Print the new list\n",
    "print(new_fellowship)\n",
    "\n",
    "# Create dict comprehension: new_fellowship\n",
    "new_fellowship_d = {member: len(member) for member in fellowship}\n",
    "\n",
    "# Print the new dictionary\n",
    "print(new_fellowship_d)\n",
    "\n"
   ]
  },
  {
   "cell_type": "code",
   "execution_count": null,
   "id": "070f3601-1ca8-484d-bc8a-28407ef5e5b2",
   "metadata": {},
   "outputs": [],
   "source": [
    "# .. and generators\n",
    "\n",
    "# generator like a list comprehension except it does not create and store the expression, \n",
    "# instead stores as a geeneator object the recipe to create it, and can be called on \n",
    "# to access the values\n",
    "\n",
    "# use of parentheses () in generator expressions and brackets [] in list comprehensions\n",
    "\n",
    "# ' lazy evalulation' .. values are not evaluated until called oon / needed\n",
    "\n",
    "# generator functions are used to 'yield' (not return) generators \n",
    "# (whose values can then be accessed when needed)\n"
   ]
  },
  {
   "cell_type": "code",
   "execution_count": null,
   "id": "cd10ddf5-b95d-42eb-886b-2d7e44423b8b",
   "metadata": {},
   "outputs": [],
   "source": [
    "# Create generator object: result\n",
    "result = (num for num in range(31))\n",
    "\n",
    "# Print the first 5 values\n",
    "print(next(result))\n",
    "print(next(result))\n",
    "print(next(result))\n",
    "print(next(result))\n",
    "print(next(result))\n",
    "\n",
    "# Print the rest of the values\n",
    "for value in result:\n",
    "    print(value)"
   ]
  },
  {
   "cell_type": "code",
   "execution_count": null,
   "id": "bde329ea-d99a-4295-b8fa-86de1682bc20",
   "metadata": {},
   "outputs": [],
   "source": [
    "import pandas as pd\n",
    "df = pd.read_csv('tweets.csv')\n",
    "\n",
    "# Extract the created_at column from df: tweet_time\n",
    "tweet_time = df['created_at']\n",
    "\n",
    "# Extract the clock time: tweet_clock_time\n",
    "tweet_clock_time = [entry[11:19] for entry in tweet_time if entry[17:19] == '19']\n",
    "\n",
    "# Print the extracted times\n",
    "print(tweet_clock_time)"
   ]
  },
  {
   "cell_type": "code",
   "execution_count": null,
   "id": "1ca9aa56-3557-444a-9374-5c8f7b9acd56",
   "metadata": {},
   "outputs": [],
   "source": []
  }
 ],
 "metadata": {
  "kernelspec": {
   "display_name": "Python@conda-envs-data-processing",
   "language": "python",
   "name": "conda-env-conda-envs-data-processing-py"
  },
  "language_info": {
   "codemirror_mode": {
    "name": "ipython",
    "version": 3
   },
   "file_extension": ".py",
   "mimetype": "text/x-python",
   "name": "python",
   "nbconvert_exporter": "python",
   "pygments_lexer": "ipython3"
  }
 },
 "nbformat": 4,
 "nbformat_minor": 5
}
