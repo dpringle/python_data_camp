{
 "cells": [
  {
   "cell_type": "code",
   "execution_count": null,
   "id": "caae6fd3-1b8c-4c57-9091-90a6a571a0d1",
   "metadata": {},
   "outputs": [],
   "source": [
    "# Data Viz\n",
    "\n",
    "# Explore / report\n",
    "# import matplotlib.pyplot as plt\n",
    "# plt.plot(year, pop)\n",
    "# ...\n",
    "# plt.show()\n",
    "\n",
    "# plt.scatter(year,pop) -- noline added\n",
    "# plt.scale('log')\n",
    "\n",
    "# plt.hist(x, bins=10 ,range .. density=False ...)\n",
    "# plt.clf() -- clear figure\n",
    "\n",
    "# plt.xlabel()\n",
    "# plt.xlabel()\n",
    "# plt.title()\n",
    "# plt.yticks([0,2,4,6,8], ['0', '2B', '4B', '6B' .. ]) -- second arg sets labels to ticks\n"
   ]
  },
  {
   "cell_type": "code",
   "execution_count": null,
   "id": "c6f18c0f-c7d4-4ae9-b2bb-d49d2e80ae39",
   "metadata": {},
   "outputs": [],
   "source": [
    "# Dictionaries\n",
    "\n",
    "# Different py type, for fast look-up using key-value pairs\n",
    "# my_dict = {\n",
    "#    \"key1\":\"value1\",\n",
    "#    \"key2\":\"value2\",\n",
    "# }\n"
   ]
  },
  {
   "cell_type": "code",
   "execution_count": null,
   "id": "526313e0-6c52-42f7-bf4c-4e579f36fc85",
   "metadata": {},
   "outputs": [],
   "source": [
    "# Definition of countries and capital\n",
    "countries = ['spain', 'france', 'germany', 'norway']\n",
    "capitals = ['madrid', 'paris', 'berlin', 'oslo']\n",
    "\n",
    "# From string in countries and capitals, create dictionary europe\n",
    "europe = {'spain':'madrid', 'france':'paris', 'germany':'berlin', 'norway':'oslo' }\n",
    "\n",
    "# Print europe\n",
    "print(europe)\n",
    "\n",
    "# Print out the keys in europe\n",
    "print(europe.keys())\n",
    "\n",
    "# Print out value that belongs to key 'norway'\n",
    "print(europe.values())"
   ]
  },
  {
   "cell_type": "code",
   "execution_count": null,
   "id": "3458c5ec-dd8e-4d57-8d96-c25b915831c4",
   "metadata": {},
   "outputs": [],
   "source": [
    "# keys should be unique, and \"immutable\" objects, so cannot use a list as a key\n",
    "\n",
    "# append to existing dict\n",
    "# world[\"sealand\"] = 0.000027\n",
    "# same syntax allows updating. \n",
    "# This works as keys must be unique, so edits rather than appending again\n",
    "\n",
    "# Select, update and remove elements with []\n",
    "# lists are indexed by position - ordered applications\n",
    "# dict are indexed by key value - fast, and unique keys\n"
   ]
  },
  {
   "cell_type": "code",
   "execution_count": null,
   "id": "9c795caf-a0da-4c2a-a9ab-0cedd642e32c",
   "metadata": {},
   "outputs": [],
   "source": [
    "# Definition of dictionary\n",
    "europe = {'spain':'madrid', 'france':'paris', 'germany':'berlin', 'norway':'oslo' }\n",
    "print(europe)\n",
    "\n",
    "# Add italy to europe\n",
    "europe['italy'] = 'rome'\n",
    "\n",
    "# Asserts that italy is in europe\n",
    "print('italy' in europe)\n",
    "print(europe['italy'])\n",
    "\n",
    "# Add poland to europe\n",
    "europe['poland'] = 'warsaw'\n",
    "\n",
    "# Print europe\n",
    "print(europe)"
   ]
  },
  {
   "cell_type": "code",
   "execution_count": null,
   "id": "14f20ff7-7739-4e7f-b0e1-f58f69b3c3e9",
   "metadata": {},
   "outputs": [],
   "source": [
    "# remove a k-v pair using\n",
    "# del dict['key']\n",
    "\n",
    "# keys cannot be lists, but values can be nested dictionaries\n",
    "\n",
    "# Dictionary of dictionaries\n",
    "europe = { 'spain': { 'capital':'madrid', 'population':46.77 },\n",
    "           'france': { 'capital':'paris', 'population':66.03 },\n",
    "           'germany': { 'capital':'berlin', 'population':80.62 },\n",
    "           'norway': { 'capital':'oslo', 'population':5.084 } }\n",
    "\n",
    "\n",
    "# Print out the capital of France\n",
    "print(europe['france']['capital'])\n",
    "\n",
    "# Create sub-dictionary data\n",
    "data = { 'capital':'rome', 'population':59.83}\n",
    "\n",
    "# Add data to europe under key 'italy'\n",
    "europe['italy'] = data\n",
    "\n",
    "# Print europe\n",
    "print(europe)"
   ]
  },
  {
   "cell_type": "code",
   "execution_count": null,
   "id": "a81c3e24-a247-45b4-9dd4-1231cf186aa5",
   "metadata": {},
   "outputs": [],
   "source": [
    "# Pandas Part 1\n",
    "# import pandas as pd\n",
    "\n",
    "# Tabular data\n",
    "# 2d numpy arrays can only handle one data type, so use pandas dataframe\n",
    "# Rows can have unique row labels, and cols w names and diff types\n",
    "\n",
    "# can build manually from dictionaries\n",
    "# or read in from csvs, with index_col = 0 possilby to handle row labels\n"
   ]
  },
  {
   "cell_type": "code",
   "execution_count": null,
   "id": "ac67727f-19fe-43ed-b9c6-91c8630ee62a",
   "metadata": {},
   "outputs": [],
   "source": [
    "# Pre-defined lists\n",
    "names = ['United States', 'Australia', 'Japan', 'India', 'Russia', 'Morocco', 'Egypt']\n",
    "dr =  [True, False, False, False, True, True, True]\n",
    "cpc = [809, 731, 588, 18, 200, 70, 45]\n",
    "\n",
    "# Import pandas as pd\n",
    "import pandas as pd\n",
    "\n",
    "# Create dictionary my_dict with three key:value pairs: my_dict\n",
    "my_dict = {'country':names, 'drives_right':dr, 'cars_per_cap':cpc}\n",
    "\n",
    "# Build a DataFrame cars from my_dict: cars\n",
    "cars = pd.DataFrame(my_dict)\n",
    "\n",
    "# Print cars\n",
    "print(cars)"
   ]
  },
  {
   "cell_type": "code",
   "execution_count": null,
   "id": "7b7ca843-a63f-4f33-93fb-ddd2a914229a",
   "metadata": {},
   "outputs": [],
   "source": [
    "# row labels is an attribute, so set with syntax:\n",
    "import pandas as pd\n",
    "\n",
    "# Build cars DataFrame\n",
    "names = ['United States', 'Australia', 'Japan', 'India', 'Russia', 'Morocco', 'Egypt']\n",
    "dr =  [True, False, False, False, True, True, True]\n",
    "cpc = [809, 731, 588, 18, 200, 70, 45]\n",
    "cars_dict = { 'country':names, 'drives_right':dr, 'cars_per_cap':cpc }\n",
    "cars = pd.DataFrame(cars_dict)\n",
    "\n",
    "# Definition of row_labels\n",
    "row_labels = ['US', 'AUS', 'JPN', 'IN', 'RU', 'MOR', 'EG']\n",
    "\n",
    "# Specify row labels of cars\n",
    "cars.index = row_labels\n",
    "\n",
    "# Print cars again\n",
    "print(cars)"
   ]
  },
  {
   "cell_type": "code",
   "execution_count": null,
   "id": "9b57731f-b630-47de-93fe-d9c61ae1bf98",
   "metadata": {},
   "outputs": [],
   "source": [
    "# read from csv\n",
    "\n",
    "# Import pandas as pd\n",
    "# import pandas as pd\n",
    "\n",
    "# Fix import by including index_col\n",
    "# cars = pd.read_csv('cars.csv', index_col = 0)\n",
    "\n",
    "# Print out cars\n",
    "# print(cars)"
   ]
  },
  {
   "cell_type": "code",
   "execution_count": null,
   "id": "8c0c4787-87e7-4877-97f5-588d258e9996",
   "metadata": {},
   "outputs": [],
   "source": [
    "# index and select data with [] and loc, iloc\n",
    "\n",
    "# type(brics[\"country\"]) is a 1D labelled array \n",
    "\n",
    "# type(brics[[\"country\"]] remains the column as a sub-df\n",
    "# likewise [[]] to specify a slice for rows [incl:excl] 0-based\n",
    "\n",
    "# Ideally, want something like a2D Numpy array .. \n",
    "# use loc (labeld based) and iloc (index based)\n",
    "\n",
    "# 1. Square brackets\n",
    "#  - column access: brics[[\"country\", \"capital\"]]\n",
    "# - row access: only through slicing brics[1:4]\n",
    "\n",
    "# 2. loc (label-based)\n",
    "# - col access  brics.loc[:, [\"country\",\"captial\"]]\n",
    "# - row access  brics.loc[[\"RU\", \"IN\", \"CH\"]]\n",
    "# - row and col brics.loc[[\"RU\", \"IN\", \"CH\"], [\"country\", \"capital\"]]\n",
    "\n",
    "# if, instead want to segment or slice using index value, then use iloc\n",
    "\n",
    "# brics.iloc[[1,2,3]]\n",
    "# brics.iloc[[1,2,3],[0,1]]\n",
    "# brics.iloc[:, [0,1]]\n",
    "\n",
    "# Only difference between loc and iloc is using names vs. index numbers\n"
   ]
  },
  {
   "cell_type": "code",
   "execution_count": null,
   "id": "e74e65cd-d092-41d6-a365-6628b05d4d9d",
   "metadata": {},
   "outputs": [],
   "source": [
    "# Comparison Operators\n",
    "\n",
    "# booleans\n",
    "# simplest on numbers; also check equality for all types, but not between types\n",
    "# 'carl' < 'chris' TRUE\n",
    "\n",
    "# truth value of an array is ambiguous; need array equivalents\n",
    "# bmi[np.logical_and(bmi > 21, bmi < 22)]\n",
    "# bmi[np.logical_or(bmi > 21, bmi < 22)]\n"
   ]
  },
  {
   "cell_type": "code",
   "execution_count": null,
   "id": "7e5f065f-df5f-467e-a97c-eba08f487f3d",
   "metadata": {},
   "outputs": [],
   "source": [
    "# Control flow, condition statements\n",
    "\n",
    "# if, else, elif\n",
    "# if condition : \n",
    "#    expression  -- requires indentation by 4 spaces or a tab\n"
   ]
  },
  {
   "cell_type": "code",
   "execution_count": null,
   "id": "ff12a93e-a6c5-4750-b5a3-b939547a5c2a",
   "metadata": {},
   "outputs": [],
   "source": [
    "area = 10.0\n",
    "if(area < 9) :\n",
    "    print(\"small\")\n",
    "elif(area < 12) :\n",
    "    print(\"medium\")\n",
    "else :\n",
    "    print(\"large\")"
   ]
  },
  {
   "cell_type": "code",
   "execution_count": null,
   "id": "c4675618-2a8d-4235-b12f-e2feb30b8415",
   "metadata": {},
   "outputs": [],
   "source": [
    "# filtering pandas dataframes\n",
    "\n",
    "# brics[brics[\"areas\"] > 8]\n",
    "# pandas built on numpy, so np.logical_and (or) can be used\n",
    "\n"
   ]
  },
  {
   "cell_type": "code",
   "execution_count": null,
   "id": "351937a5-a6fd-4a1c-bad0-ca7856c247aa",
   "metadata": {},
   "outputs": [],
   "source": [
    "# while loop\n",
    "\n",
    "# while condition :\n",
    "#     expression\n"
   ]
  },
  {
   "cell_type": "code",
   "execution_count": null,
   "id": "6f8d0a5d-d511-4df3-af83-b0adac272430",
   "metadata": {},
   "outputs": [],
   "source": [
    "error = 50.0\n",
    "\n",
    "while error >1 : \n",
    "    error = error /4\n",
    "    print(error)"
   ]
  },
  {
   "cell_type": "code",
   "execution_count": null,
   "id": "23aa8fe6-a14b-4eec-af5b-0609d1a28ad7",
   "metadata": {},
   "outputs": [],
   "source": [
    "# for loop\n",
    "\n",
    "# for var in vars : \n",
    "#    expression\n",
    "\n",
    "# index elements looped over, using enumerate"
   ]
  },
  {
   "cell_type": "code",
   "execution_count": null,
   "id": "4000f6af-9de1-4e9d-8ea1-4b2d330913c4",
   "metadata": {},
   "outputs": [],
   "source": [
    "fam = [1.73, 1.68, 1.71, 1.89]\n",
    "for index, height in enumerate(fam) :\n",
    "    print(\"person \" + str(index) + \": \" + str(height))"
   ]
  },
  {
   "cell_type": "code",
   "execution_count": null,
   "id": "72c15cf7-4203-4ad7-a925-5237c0047e7f",
   "metadata": {},
   "outputs": [],
   "source": [
    "# house list of lists\n",
    "house = [[\"hallway\", 11.25], \n",
    "         [\"kitchen\", 18.0], \n",
    "         [\"living room\", 20.0], \n",
    "         [\"bedroom\", 10.75], \n",
    "         [\"bathroom\", 9.50]]\n",
    "         \n",
    "# Build a for loop from scratch\n",
    "for idx, room in enumerate(house):\n",
    "    print(\"the \" + room[0]+ \" is \" + str(room[1]) + \" sqm\")"
   ]
  },
  {
   "cell_type": "code",
   "execution_count": null,
   "id": "557dc49c-1b4e-4aa8-b384-c51a52416b92",
   "metadata": {},
   "outputs": [],
   "source": [
    "# for loop dict\n",
    "# dict are unordered, need to use .items() -- a method\n",
    "\n",
    "# for loop NumPy Array\n",
    "# to get every element in an array use np.nditer() -- a function\n"
   ]
  },
  {
   "cell_type": "code",
   "execution_count": null,
   "id": "e2fa3412-9884-465c-8d7f-96683ab6e4b4",
   "metadata": {},
   "outputs": [],
   "source": [
    "world = { \"afghanistan\":30.55, \n",
    "          \"albania\":2.77,\n",
    "          \"algeria\":39.21 }\n",
    "\n",
    "for key, value in world.items() :\n",
    "    print(key + \" -- \" + str(value))"
   ]
  },
  {
   "cell_type": "code",
   "execution_count": null,
   "id": "c29e4117-07c9-44b8-ad5d-785c12395491",
   "metadata": {},
   "outputs": [],
   "source": [
    "# for loop pandas df\n",
    "\n",
    "# df.iterrows() function to iterate over rows\n",
    "\n",
    "# Import cars data\n",
    "import pandas as pd\n",
    "cars = pd.read_csv('cars.csv', index_col = 0)\n",
    "\n",
    "# Adapt for loop\n",
    "for lab, row in cars.iterrows() :\n",
    "    print(lab)\n",
    "    print(row)"
   ]
  },
  {
   "cell_type": "code",
   "execution_count": null,
   "id": "7b521198-39dc-4e68-82bc-144225d18592",
   "metadata": {},
   "outputs": [],
   "source": [
    "# Import cars data\n",
    "import pandas as pd\n",
    "cars = pd.read_csv('cars.csv', index_col = 0)\n",
    "\n",
    "# Adapt for loop\n",
    "for lab, row in cars.iterrows() :\n",
    "    print(lab+str(': ')+str(row['cars_per_cap']))"
   ]
  },
  {
   "cell_type": "code",
   "execution_count": null,
   "id": "e64a5ff3-2037-4fd4-a4c3-7d3da39c8ff8",
   "metadata": {},
   "outputs": [],
   "source": [
    "# Import cars data\n",
    "import pandas as pd\n",
    "cars = pd.read_csv('cars.csv', index_col = 0)\n",
    "\n",
    "# Code for loop that adds COUNTRY column\n",
    "for lab, row in cars.iterrows() :\n",
    "    # upper() is a method so applied as .upper() \n",
    "    cars.loc[lab, 'COUNTRY'] = row['country'].upper()\n",
    "\n",
    "# Much faster to do column additional directly using .apply()\n",
    "# for methods, like upper() this is different than for functions\n",
    "\n",
    "# Use .apply(str.upper)\n",
    "cars[\"COUNTRY.apply\"] = cars[\"country\"].apply(str.upper)\n",
    "\n",
    "# Print cars\n",
    "print(cars)"
   ]
  },
  {
   "cell_type": "code",
   "execution_count": null,
   "id": "ab156a2e-4073-4365-90ca-213f33b5f1f9",
   "metadata": {},
   "outputs": [],
   "source": [
    "# 'Hacker Statistics' approach to brute force probability examples\n",
    "\n",
    "# Roll dice: \n",
    "# - 1,2 means down one step\n",
    "# - 3,4,5 means up one step \n",
    "# - 6 means roll again and move up number of pips on dice\n",
    "\n",
    "# plus 0.1% change for_any_ move to fall back down to zeroth step\n",
    "# What is probability of reaching step 60?"
   ]
  },
  {
   "cell_type": "code",
   "execution_count": null,
   "id": "4ea3ccba-0a66-4b57-bd0b-59615494f648",
   "metadata": {},
   "outputs": [],
   "source": [
    "# Random Numbers\n",
    "\n",
    "# np.random.rand() -- Pseudo random number\n",
    "# np.random.rand(123) -- set seed to arbitrary 123, ensures reproducible random numbers\n",
    "\n",
    "import numpy as np\n",
    "\n",
    "# set the seed\n",
    "np.random.seed(123)\n",
    "\n",
    "coin = np.random.randint(0,2) #Randomly generate integer between 0 and 1 (2 exlcusive)\n",
    "\n",
    "print(coin)\n",
    "if coin == 0:\n",
    "    print(\"heads\")\n",
    "else:\n",
    "    print(\"tails\")"
   ]
  },
  {
   "cell_type": "code",
   "execution_count": null,
   "id": "e60774be-8570-4ba7-8051-7df199fe5d2d",
   "metadata": {},
   "outputs": [],
   "source": [
    "# random walk where position is cummultive random movement\n",
    "\n",
    "# NumPy is imported, seed is set\n",
    "import numpy as np\n",
    "np.random.seed(123)\n",
    "\n",
    "# Initialization\n",
    "random_walk = [0]\n",
    "\n",
    "for x in range(100) :\n",
    "    step = random_walk[-1]\n",
    "    dice = np.random.randint(1,7)\n",
    "\n",
    "    if dice <= 2:\n",
    "        step = max(0, step - 1)\n",
    "    elif dice <= 5:\n",
    "        step = step + 1\n",
    "    else:\n",
    "        step = step + np.random.randint(1,7)\n",
    "\n",
    "    random_walk.append(step)\n",
    "\n",
    "# Import matplotlib.pyplot as plt\n",
    "import matplotlib.pyplot as plt\n",
    "\n",
    "# Plot random_walk\n",
    "plt.plot(random_walk)\n",
    "\n",
    "# Show the plot\n",
    "plt.show()"
   ]
  },
  {
   "cell_type": "code",
   "execution_count": null,
   "id": "9c42d97e-d5b6-4351-9d7e-f6643b934cd1",
   "metadata": {},
   "outputs": [],
   "source": [
    "# numpy and matplotlib imported, seed set\n",
    "import numpy as np\n",
    "import matplotlib.pyplot as plt\n",
    "            \n",
    "# Simulate random walk 500 times\n",
    "all_walks = []\n",
    "for i in range(2000) :\n",
    "    random_walk = [0]\n",
    "    for x in range(100) :\n",
    "        step = random_walk[-1]\n",
    "        dice = np.random.randint(1,7)\n",
    "        if dice <= 2:\n",
    "            step = max(0, step - 1)\n",
    "        elif dice <= 5:\n",
    "            step = step + 1\n",
    "        else:\n",
    "            step = step + np.random.randint(1,7)\n",
    "        if np.random.rand() <= 0.001 :\n",
    "            step = 0\n",
    "        random_walk.append(step)\n",
    "    all_walks.append(random_walk)\n",
    "\n",
    "# Create and plot np_aw_t\n",
    "np_aw_t = np.transpose(np.array(all_walks))\n",
    "\n",
    "# Select last row from np_aw_t: ends\n",
    "ends = np_aw_t[-1,:]\n",
    "\n",
    "# Plot histogram of ends, display plot\n",
    "plt.hist(ends)\n",
    "plt.show()\n",
    "\n",
    "# calc prob of having reched teh 60th floor\n",
    "\n",
    "prob_60 = len(ends[ends>=60])/len(ends)\n",
    "print(prob_60)\n"
   ]
  },
  {
   "cell_type": "code",
   "execution_count": null,
   "id": "2e05b245-3a82-433c-a78b-f66731d5730d",
   "metadata": {},
   "outputs": [],
   "source": []
  }
 ],
 "metadata": {
  "kernelspec": {
   "display_name": "Python@conda-envs-data-processing",
   "language": "python",
   "name": "conda-env-conda-envs-data-processing-py"
  },
  "language_info": {
   "codemirror_mode": {
    "name": "ipython",
    "version": 3
   },
   "file_extension": ".py",
   "mimetype": "text/x-python",
   "name": "python",
   "nbconvert_exporter": "python",
   "pygments_lexer": "ipython3"
  }
 },
 "nbformat": 4,
 "nbformat_minor": 5
}
