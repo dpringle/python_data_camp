{
 "cells": [
  {
   "cell_type": "code",
   "execution_count": null,
   "id": "8e5fbd03-273e-4b60-bf26-720238c197e5",
   "metadata": {},
   "outputs": [],
   "source": [
    "def camel_to_snake(s):\n",
    "    return ''.join(['_'+c.lower() if c.isupper() else c for c in s]).lstrip('_')\n",
    "\n",
    "def camel_to_snake2(s):\n",
    "    return ''.join(['_'+c.lower() if c.isupper()else c for c in s]).lstrip('_')"
   ]
  },
  {
   "cell_type": "code",
   "execution_count": null,
   "id": "754735af-cea9-466a-a89f-8bbbf8e398c2",
   "metadata": {},
   "outputs": [],
   "source": [
    "camel = 'HelloWorld'\n",
    "snake = camel_to_snake(camel)\n",
    "print(snake)"
   ]
  },
  {
   "cell_type": "code",
   "execution_count": null,
   "id": "49558386-e5cd-435d-a1ea-979b83bf7dd0",
   "metadata": {},
   "outputs": [],
   "source": []
  }
 ],
 "metadata": {
  "kernelspec": {
   "display_name": "Python 3 (ipykernel)",
   "language": "python",
   "name": "python3"
  },
  "language_info": {
   "codemirror_mode": {
    "name": "ipython",
    "version": 3
   },
   "file_extension": ".py",
   "mimetype": "text/x-python",
   "name": "python",
   "nbconvert_exporter": "python",
   "pygments_lexer": "ipython3"
  }
 },
 "nbformat": 4,
 "nbformat_minor": 5
}
