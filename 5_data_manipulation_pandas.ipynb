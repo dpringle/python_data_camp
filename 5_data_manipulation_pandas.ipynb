{
 "cells": [
  {
   "cell_type": "code",
   "execution_count": null,
   "id": "bd02bc02-f7ec-4fc4-bc6a-ba47e11f3c34",
   "metadata": {},
   "outputs": [],
   "source": [
    "# Data Manipulation with Pandas\n",
    "\n",
    "# Core package, built on numpy and matplotlib"
   ]
  },
  {
   "cell_type": "code",
   "execution_count": null,
   "id": "1ca9aa56-3557-444a-9374-5c8f7b9acd56",
   "metadata": {},
   "outputs": [],
   "source": []
  }
 ],
 "metadata": {
  "kernelspec": {
   "display_name": "Python@conda-envs-data-processing",
   "language": "python",
   "name": "conda-env-conda-envs-data-processing-py"
  },
  "language_info": {
   "codemirror_mode": {
    "name": "ipython",
    "version": 3
   },
   "file_extension": ".py",
   "mimetype": "text/x-python",
   "name": "python",
   "nbconvert_exporter": "python",
   "pygments_lexer": "ipython3"
  }
 },
 "nbformat": 4,
 "nbformat_minor": 5
}
