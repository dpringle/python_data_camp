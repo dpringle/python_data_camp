{
 "cells": [
  {
   "cell_type": "code",
   "execution_count": null,
   "metadata": {},
   "outputs": [],
   "source": [
    "# Data Manipulation with Pandas\n",
    "# Core package, built on numpy and matplotlib\n",
    "\n",
    "# https://github.com/allista1r/datacamp/tree/master/data-manipulation-with-pandas/datasets\n",
    "# https://github.com/allista1r/datacamp/tree/master/data-manipulation-with-pandas/"
   ]
  },
  {
   "cell_type": "code",
   "execution_count": null,
   "metadata": {
    "jupyter": {
     "outputs_hidden": true
    }
   },
   "outputs": [],
   "source": [
    "# exploration\n",
    "\n",
    "# dogs.head() returns first 6\n",
    "# dogs.info() returns info\n",
    "# dogs.shape - attribute not method\n",
    "# dogs.describe()\n",
    "\n",
    "# 3 components accessible w 3 attributes:\n",
    "# dogs.values\n",
    "# dogs.columns\n",
    "# dogs.index - row labels\n",
    "\n",
    "# Pandas philosophy 'Zen of Python' by Tim Peters"
   ]
  },
  {
   "cell_type": "code",
   "execution_count": null,
   "metadata": {},
   "outputs": [],
   "source": [
    "# Sorting and subsetting\n",
    "\n",
    "# change order of rows by sorting them\n",
    "# dogs.sort_values(\"weight_kg\") -- defaults to lowest to highest\n",
    "# dogs.sort_values(\"weight_kg\", ascending = False) \n",
    "\n",
    "# dogs.sort_values([\"weight_kg\", \"height_cm], ascending = [True, False])\n",
    "\n",
    "# zoom to one column\n",
    "# dogs[\"name\"]\n",
    "# dogs[[\"name\", \"height_cm\"]] - outer[] do the subsetting, and inner[] do the column selection\n",
    "\n",
    "# dogs[\"height_cm\"] > 50 -- T/F for every row\n",
    "# dogs[dogs[\"height_cm\"] > 50]\n",
    "# dogs[dogs[\"breed\"] == \"Labrador\"]\n",
    "# dogs[\"date_of_birth\" == \"2015-01-01\"] - standard date format\n",
    "\n",
    "# multiple conditions, need parantheses\n",
    "\n",
    "# is_lab = dogs[\"breed\"] == \"Labrador\"\n",
    "# is_brown = dogs[\"color\"] == \"Brown\"\n",
    "# dogs[is_lab & is_brown]\n",
    "\n",
    "# or, dogs[(dogs[\"breed\"] == \"Labrador\") & (dogs[\"color\"] == \"Brown\")] - here need () & () on conditions\n",
    "\n",
    "# .isin() method for categoricial variables\n",
    "\n",
    "# is_black_or_brownh = dogs[\"color\"].isin([\"Black\", \"Brown\"])\n",
    "# dogs[is_black_or_brown]\n"
   ]
  },
  {
   "cell_type": "code",
   "execution_count": 1,
   "metadata": {
    "scrolled": true
   },
   "outputs": [
    {
     "name": "stdout",
     "output_type": "stream",
     "text": [
      "    region   state  individuals  family_members  state_pop\n",
      "1  Pacific  Alaska         1434             582     735139\n"
     ]
    }
   ],
   "source": [
    "# Filter for rows where family_members is less than 1000 \n",
    "# and region is Pacific\n",
    "import pandas as pd\n",
    "# from \"https://github.com/allista1r/datacamp/blob/master/data-manipulation-with-pandas/datasets/homelessness.csv\"\n",
    "homelessness = pd.read_csv('homelessness.csv')\n",
    "\n",
    "fam_lt_1k_pac = homelessness[(homelessness['family_members'] < 1000) & (homelessness['region'] == 'Pacific')]\n",
    "\n",
    "# See the result\n",
    "print(fam_lt_1k_pac)"
   ]
  },
  {
   "cell_type": "code",
   "execution_count": null,
   "metadata": {},
   "outputs": [],
   "source": []
  }
 ],
 "metadata": {
  "kernelspec": {
   "display_name": "Python 3",
   "language": "python",
   "name": "python3"
  },
  "language_info": {
   "codemirror_mode": {
    "name": "ipython",
    "version": 3
   },
   "file_extension": ".py",
   "mimetype": "text/x-python",
   "name": "python",
   "nbconvert_exporter": "python",
   "pygments_lexer": "ipython3",
   "version": "3.8.5"
  }
 },
 "nbformat": 4,
 "nbformat_minor": 5
}
